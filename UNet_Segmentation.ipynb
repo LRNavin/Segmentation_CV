{
 "cells": [
  {
   "cell_type": "markdown",
   "metadata": {},
   "source": [
    "### Pacakge Initialisation for UNet in PyTorch"
   ]
  },
  {
   "cell_type": "code",
   "execution_count": 4,
   "metadata": {},
   "outputs": [],
   "source": [
    "import numpy as np\n",
    "import torch\n",
    "import os\n",
    "import re\n",
    "import cv2\n",
    "import torchvision\n",
    "import torch.nn as nn\n",
    "import torch.optim as optim\n",
    "import matplotlib.pyplot as plt\n",
    "import torch.nn.functional as func\n",
    "from torch import Tensor\n",
    "from torch.optim.lr_scheduler import StepLR\n",
    "from IPython.display import HTML, display\n",
    "from torchvision import transforms,datasets,utils\n",
    "%matplotlib inline\n",
    "from torch.utils.data import DataLoader, TensorDataset"
   ]
  },
  {
   "cell_type": "markdown",
   "metadata": {},
   "source": [
    "### Constants"
   ]
  },
  {
   "cell_type": "code",
   "execution_count": 48,
   "metadata": {},
   "outputs": [],
   "source": [
    "dataset_choices = {0:\"CityScape\", 1:\"PennFund\", 2:\"MNIST\"}\n",
    "dataset = 1\n",
    "\n",
    "batch_size = 5\n",
    "num_epochs = 15\n",
    "n_class = 2"
   ]
  },
  {
   "cell_type": "markdown",
   "metadata": {},
   "source": [
    "### Utility Functions"
   ]
  },
  {
   "cell_type": "code",
   "execution_count": 64,
   "metadata": {},
   "outputs": [],
   "source": [
    "def load_cityscape_dataset(datadir_trainimage, datadir_testimage):\n",
    "    transform = transforms.Compose([transforms.ToTensor()]) # Converting to tensor dataset\n",
    "\n",
    "    train_set = torchvision.datasets.Cityscapes(root = datadir_trainimage,\n",
    "                                                split='train', mode='fine', target_type='semantic',\n",
    "                                                transform=transform , target_transform=transform , transforms=None)\n",
    "    test_set = torchvision.datasets.Cityscapes(root = datadir_testimage,\n",
    "                                               split='val', mode='fine', target_type='semantic',\n",
    "                                               transform=transform , target_transform=transform , transforms=None)\n",
    "\n",
    "\n",
    "    # creating data loader for train and test\n",
    "    dataloaders = {\n",
    "        'train': DataLoader(train_set, batch_size=batch_size, shuffle=True, num_workers=2),\n",
    "        'test': DataLoader(test_set, batch_size=1, shuffle=True, num_workers=2)\n",
    "    }\n",
    "    \n",
    "    return dataloaders\n",
    "    \n",
    "def laod_pennfund_dataset(datadir_trainimage, datadir_testimage):\n",
    "\n",
    "    \n",
    "    def process_images_and_masks(datadir_trainimage, datadir_testimage):\n",
    "        # training images\n",
    "        trainingdata=[] #empty array for saving training images as numpy array\n",
    "        trainingfile=[] #empty array for saving  corresponding training file names as numpy array\n",
    "        for img in os.listdir(datadir_trainimage):\n",
    "            trainingfile.append(img)\n",
    "            img_array =cv2.imread(os.path.join(datadir_trainimage,img),cv2.COLOR_RGB2GRAY)\n",
    "            new_array = cv2.resize(img_array,(400,400))   \n",
    "            trainingdata.append(np.squeeze([new_array]))\n",
    "\n",
    "        # masking images    \n",
    "        maskingdata=[] #empty array for saving target mask images as numpy array\n",
    "        maskingfile = [] #empty array for saving  corresponding target mask file names as numpy array\n",
    "        for i in range(len(trainingfile)):\n",
    "            img = (trainingfile[i].rsplit('.png', 1)[0])+str(\"_mask.png\")\n",
    "            maskingfile.append(img)\n",
    "            img_array =cv2.imread(os.path.join(datadir_testimage,img),cv2.IMREAD_GRAYSCALE)\n",
    "            new_array = cv2.resize(img_array,(400,400))\n",
    "            new_array[np.where(new_array>0.5)] = 1\n",
    "            maskingdata.append(np.squeeze([new_array]))\n",
    "\n",
    "        #Converting into numpy which is easy to compute\n",
    "        trainingdata = np.array(trainingdata)\n",
    "        maskingdata = np.array(maskingdata)\n",
    "        \n",
    "        return trainingdata, maskingdata\n",
    "\n",
    "    def test_mask_plots(trainingdata, maskingdata):\n",
    "        plt.imshow(maskingdata[14])\n",
    "        plt.show()\n",
    "        print(\"Unique pixels in Labels: \" + str(np.unique(maskingdata[7])))\n",
    "        print(\"Shape of Mask Labels: \" + str(maskingdata[7].shape))\n",
    "        print(\"Shape of Input Images: \" + str(trainingdata[7].shape))\n",
    "\n",
    "    \n",
    "    # Pre-process dataset\n",
    "    trainingdata, maskingdata = process_images_and_masks(datadir_trainimage, datadir_testimage)\n",
    "    # Test Masks\n",
    "    test_mask_plots(trainingdata, maskingdata)\n",
    "    \n",
    "        \n",
    "    # Final Dataset Creator\n",
    "    # RGB images obtained from CV2 has channel different than expected tensor\n",
    "    a = Tensor(trainingdata)\n",
    "    trainingdata_tensor = torch.empty(170,3,400,400,dtype=torch.float)\n",
    "    for i, img in enumerate(a):\n",
    "        trainingdata_tensor[i,:,:,:] = img.permute(2,0,1)\n",
    "\n",
    "    # Converting to tensor dataset\n",
    "    dataset_created = TensorDataset(trainingdata_tensor, Tensor(maskingdata))\n",
    "    torch.manual_seed(0)\n",
    "    train_set, val_set = torch.utils.data.random_split(dataset_created, [10, 160])\n",
    "\n",
    "    # creating data loader for train and test\n",
    "    dataloaders = {\n",
    "        'train': DataLoader(train_set, batch_size=batch_size, shuffle=True, num_workers=2),\n",
    "        'test': DataLoader(val_set, batch_size=1, shuffle=True, num_workers=2)\n",
    "        }\n",
    "    \n",
    "    return dataloaders\n",
    "\n",
    "def label_split(labels,targetimage,n_class):\n",
    "    for i in range(n_class):\n",
    "        if i==0:\n",
    "            labels[:,0,:,:] = (targetimage == 0)==1\n",
    "        else:\n",
    "            labels[:,i,:,:] = (targetimage != i)==0\n",
    "    return labels"
   ]
  },
  {
   "cell_type": "markdown",
   "metadata": {},
   "source": [
    "### Dataset creation based on new data image"
   ]
  },
  {
   "cell_type": "code",
   "execution_count": 55,
   "metadata": {},
   "outputs": [
    {
     "data": {
      "image/png": "[encoded data removed]",
      "text/plain": [
       "<Figure size 432x288 with 1 Axes>"
      ]
     },
     "metadata": {
      "needs_background": "light"
     },
     "output_type": "display_data"
    },
    {
     "name": "stdout",
     "output_type": "stream",
     "text": [
      "Unique pixels in Labels: [0 1]\n",
      "Shape of Mask Labels: (400, 400)\n",
      "Shape of Input Images: (400, 400, 3)\n"
     ]
    }
   ],
   "source": [
    "if dataset==0:\n",
    "    datadir_trainimage = \"../Dataset/cityscape_400x400/\"\n",
    "    datadir_testimage  = \"../Dataset/cityscape_400x400/\"\n",
    "    dataloaders = load_cityscape_dataset(datadir_trainimage, datadir_testimage)\n",
    "elif dataset==1:\n",
    "    datadir_trainimage = \"PennFudanPed/PNGImages\"\n",
    "    datadir_testimage  = \"PennFudanPed/PedMasks\"\n",
    "    dataloaders = laod_pennfund_dataset(datadir_trainimage, datadir_testimage)"
   ]
  },
  {
   "cell_type": "markdown",
   "metadata": {},
   "source": [
    "### UNET Models"
   ]
  },
  {
   "cell_type": "markdown",
   "metadata": {},
   "source": [
    "#### 16k Params Model"
   ]
  },
  {
   "cell_type": "code",
   "execution_count": 56,
   "metadata": {},
   "outputs": [
    {
     "name": "stdout",
     "output_type": "stream",
     "text": [
      "==========================================================================================\n",
      "Layer (type:depth-idx)                   Output Shape              Param #\n",
      "==========================================================================================\n",
      "├─Sequential: 1-1                        [-1, 16, 400, 400]        --\n",
      "|    └─Conv2d: 2-1                       [-1, 16, 400, 400]        448\n",
      "|    └─ReLU: 2-2                         [-1, 16, 400, 400]        --\n",
      "├─MaxPool2d: 1-2                         [-1, 16, 200, 200]        --\n",
      "├─Sequential: 1-3                        [-1, 32, 200, 200]        --\n",
      "|    └─Conv2d: 2-3                       [-1, 32, 200, 200]        4,640\n",
      "|    └─ReLU: 2-4                         [-1, 32, 200, 200]        --\n",
      "├─ConvTranspose2d: 1-4                   [-1, 32, 400, 400]        4,128\n",
      "├─Sequential: 1-5                        [-1, 16, 400, 400]        --\n",
      "|    └─Conv2d: 2-5                       [-1, 16, 400, 400]        6,928\n",
      "|    └─ReLU: 2-6                         [-1, 16, 400, 400]        --\n",
      "├─Conv2d: 1-6                            [-1, 2, 400, 400]         34\n",
      "==========================================================================================\n",
      "Total params: 16,178\n",
      "Trainable params: 16,178\n",
      "Non-trainable params: 0\n",
      "Total mult-adds (G): 2.02\n",
      "==========================================================================================\n",
      "Input size (MB): 1.83\n",
      "Forward/backward pass size (MB): 90.33\n",
      "Params size (MB): 0.06\n",
      "Estimated Total Size (MB): 92.22\n",
      "==========================================================================================\n"
     ]
    }
   ],
   "source": [
    "class unet_16k(nn.Module):\n",
    "    def __init__(self):\n",
    "        super(unet_16k,self).__init__()\n",
    "\n",
    "        #Encoder\n",
    "        self.contractinglayer1 = nn.Sequential(nn.Conv2d(3, 16, 3, stride=1, padding=1), nn.ReLU())\n",
    "        self.contractinglayer2 = nn.Sequential(nn.Conv2d(16, 32, 3, stride=1, padding=1), nn.ReLU())\n",
    "        self.downsampling = nn.MaxPool2d(2)\n",
    "\n",
    "        #Decoder\n",
    "        self.upsampling_2to1 = nn.ConvTranspose2d(32, 32, 2,stride=2, padding=0)\n",
    "        self.explayer5 = nn.Sequential(nn.Conv2d(32+16, 16, 3, stride=1, padding=1), nn.ReLU())\n",
    "        self.output_conv = nn.Conv2d(16, 2, 1, stride=1)\n",
    "    \n",
    "\n",
    "    def forward(self, x):\n",
    "\n",
    "        #Encoder\n",
    "        x1 = self.contractinglayer1(x)\n",
    "        x2 = self.downsampling(x1)\n",
    "        x3 = self.contractinglayer2(x2)\n",
    "        \n",
    "        #Decoder\n",
    "        x4 = torch.cat([self.upsampling_2to1(x3,output_size=x1.size()), x1], dim=1)\n",
    "        x5 = self.explayer5(x4)\n",
    "        x6 = self.output_conv(x5)\n",
    "        \n",
    "        return x6   \n",
    "\n",
    "\n",
    "from torchsummary import summary\n",
    "\n",
    "model = unet_16k()\n",
    "model = model.to(torch.device('cuda' if torch.cuda.is_available() else 'cpu'))\n",
    "\n",
    "_ = summary(model, (3, 400, 400))"
   ]
  },
  {
   "cell_type": "markdown",
   "metadata": {},
   "source": [
    "#### 100k Params Model"
   ]
  },
  {
   "cell_type": "code",
   "execution_count": 38,
   "metadata": {},
   "outputs": [
    {
     "name": "stdout",
     "output_type": "stream",
     "text": [
      "==========================================================================================\n",
      "Layer (type:depth-idx)                   Output Shape              Param #\n",
      "==========================================================================================\n",
      "├─Sequential: 1-1                        [-1, 16, 400, 400]        --\n",
      "|    └─Conv2d: 2-1                       [-1, 16, 400, 400]        448\n",
      "|    └─ReLU: 2-2                         [-1, 16, 400, 400]        --\n",
      "|    └─Conv2d: 2-3                       [-1, 16, 400, 400]        2,320\n",
      "|    └─ReLU: 2-4                         [-1, 16, 400, 400]        --\n",
      "├─MaxPool2d: 1-2                         [-1, 16, 200, 200]        --\n",
      "├─Sequential: 1-3                        [-1, 32, 200, 200]        --\n",
      "|    └─Conv2d: 2-5                       [-1, 32, 200, 200]        4,640\n",
      "|    └─ReLU: 2-6                         [-1, 32, 200, 200]        --\n",
      "|    └─Conv2d: 2-7                       [-1, 32, 200, 200]        9,248\n",
      "|    └─ReLU: 2-8                         [-1, 32, 200, 200]        --\n",
      "├─MaxPool2d: 1-4                         [-1, 32, 100, 100]        --\n",
      "├─Sequential: 1-5                        [-1, 64, 100, 100]        --\n",
      "|    └─Conv2d: 2-9                       [-1, 64, 100, 100]        18,496\n",
      "|    └─ReLU: 2-10                        [-1, 64, 100, 100]        --\n",
      "|    └─Conv2d: 2-11                      [-1, 64, 100, 100]        36,928\n",
      "|    └─ReLU: 2-12                        [-1, 64, 100, 100]        --\n",
      "├─ConvTranspose2d: 1-6                   [-1, 64, 200, 200]        16,448\n",
      "├─Sequential: 1-7                        [-1, 32, 200, 200]        --\n",
      "|    └─Conv2d: 2-13                      [-1, 32, 200, 200]        27,680\n",
      "|    └─ReLU: 2-14                        [-1, 32, 200, 200]        --\n",
      "|    └─Conv2d: 2-15                      [-1, 32, 200, 200]        9,248\n",
      "|    └─ReLU: 2-16                        [-1, 32, 200, 200]        --\n",
      "├─ConvTranspose2d: 1-8                   [-1, 32, 400, 400]        4,128\n",
      "├─Sequential: 1-9                        [-1, 16, 400, 400]        --\n",
      "|    └─Conv2d: 2-17                      [-1, 16, 400, 400]        6,928\n",
      "|    └─ReLU: 2-18                        [-1, 16, 400, 400]        --\n",
      "|    └─Conv2d: 2-19                      [-1, 16, 400, 400]        2,320\n",
      "|    └─ReLU: 2-20                        [-1, 16, 400, 400]        --\n",
      "├─Conv2d: 1-10                           [-1, 2, 400, 400]         34\n",
      "==========================================================================================\n",
      "Total params: 138,866\n",
      "Trainable params: 138,866\n",
      "Non-trainable params: 0\n",
      "Total mult-adds (G): 5.81\n",
      "==========================================================================================\n",
      "Input size (MB): 1.83\n",
      "Forward/backward pass size (MB): 187.99\n",
      "Params size (MB): 0.53\n",
      "Estimated Total Size (MB): 190.35\n",
      "==========================================================================================\n"
     ]
    }
   ],
   "source": [
    "class unet_100k(nn.Module):\n",
    "    def __init__(self):\n",
    "        super(unet_100k,self).__init__()\n",
    "\n",
    "        #Encoder\n",
    "        self.contractinglayer1 = nn.Sequential(nn.Conv2d(3, 16, 3, stride=1, padding=1), nn.ReLU(), nn.Conv2d(16, 16, 3, stride=1, padding=1), nn.ReLU())\n",
    "        self.contractinglayer2 = nn.Sequential(nn.Conv2d(16, 32, 3, stride=1, padding=1), nn.ReLU(), nn.Conv2d(32, 32, 3, stride=1, padding=1), nn.ReLU())\n",
    "        self.contractinglayer3 = nn.Sequential(nn.Conv2d(32, 64, 3, stride=1, padding=1), nn.ReLU(), nn.Conv2d(64, 64, 3, stride=1, padding=1), nn.ReLU())\n",
    "        self.downsampling = nn.MaxPool2d(2)\n",
    "\n",
    "        #Decoder\n",
    "        self.upsampling_3to2 = nn.ConvTranspose2d(64, 64, 2,stride=2, padding=0)\n",
    "        self.explayer4 = nn.Sequential(nn.Conv2d(64+32, 32, 3, stride=1, padding=1), nn.ReLU(), nn.Conv2d(32, 32, 3, stride=1, padding=1), nn.ReLU())\n",
    "        self.upsampling_2to1 = nn.ConvTranspose2d(32, 32, 2,stride=2, padding=0)\n",
    "        self.explayer5 = nn.Sequential(nn.Conv2d(32+16, 16, 3, stride=1, padding=1), nn.ReLU(), nn.Conv2d(16, 16, 3, stride=1, padding=1), nn.ReLU())\n",
    "        self.output_conv = nn.Conv2d(16, 2, 1, stride=1)\n",
    "\n",
    "    def forward(self, x):\n",
    "        \n",
    "        #Encoder\n",
    "        x1 = self.contractinglayer1(x)\n",
    "        x2 = self.downsampling(x1)\n",
    "        x3 = self.contractinglayer2(x2)\n",
    "        x4 = self.downsampling(x3)\n",
    "        x5 = self.contractinglayer3(x4)\n",
    "        \n",
    "        #Decoder\n",
    "        x6 = torch.cat([self.upsampling_3to2(x5,output_size=x3.size()), x3], dim=1)\n",
    "        x7 = self.explayer4(x6)\n",
    "        x8 = torch.cat([self.upsampling_2to1(x7,output_size=x1.size()), x1], dim=1)\n",
    "        x9 = self.explayer5(x8)\n",
    "        x10 = self.output_conv(x9)\n",
    "        \n",
    "        return x10   \n",
    "\n",
    "\n",
    "from torchsummary import summary\n",
    "\n",
    "device = torch.device('cuda' if torch.cuda.is_available() else 'cpu')\n",
    "model = unet_100k()\n",
    "model = model.to(device)\n",
    "\n",
    "_ = summary(model, (3, 400, 400))"
   ]
  },
  {
   "cell_type": "markdown",
   "metadata": {},
   "source": [
    "### 7M Params Model"
   ]
  },
  {
   "cell_type": "code",
   "execution_count": 40,
   "metadata": {},
   "outputs": [
    {
     "name": "stdout",
     "output_type": "stream",
     "text": [
      "==========================================================================================\n",
      "Layer (type:depth-idx)                   Output Shape              Param #\n",
      "==========================================================================================\n",
      "├─Sequential: 1-1                        [-1, 64, 400, 400]        --\n",
      "|    └─Conv2d: 2-1                       [-1, 64, 400, 400]        1,792\n",
      "|    └─ReLU: 2-2                         [-1, 64, 400, 400]        --\n",
      "|    └─Conv2d: 2-3                       [-1, 64, 400, 400]        36,928\n",
      "|    └─ReLU: 2-4                         [-1, 64, 400, 400]        --\n",
      "├─MaxPool2d: 1-2                         [-1, 64, 200, 200]        --\n",
      "├─Sequential: 1-3                        [-1, 128, 200, 200]       --\n",
      "|    └─Conv2d: 2-5                       [-1, 128, 200, 200]       73,856\n",
      "|    └─ReLU: 2-6                         [-1, 128, 200, 200]       --\n",
      "|    └─Conv2d: 2-7                       [-1, 128, 200, 200]       147,584\n",
      "|    └─ReLU: 2-8                         [-1, 128, 200, 200]       --\n",
      "├─MaxPool2d: 1-4                         [-1, 128, 100, 100]       --\n",
      "├─Sequential: 1-5                        [-1, 256, 100, 100]       --\n",
      "|    └─Conv2d: 2-9                       [-1, 256, 100, 100]       295,168\n",
      "|    └─ReLU: 2-10                        [-1, 256, 100, 100]       --\n",
      "|    └─Conv2d: 2-11                      [-1, 256, 100, 100]       590,080\n",
      "|    └─ReLU: 2-12                        [-1, 256, 100, 100]       --\n",
      "├─MaxPool2d: 1-6                         [-1, 256, 50, 50]         --\n",
      "├─Sequential: 1-7                        [-1, 512, 50, 50]         --\n",
      "|    └─Conv2d: 2-13                      [-1, 512, 50, 50]         1,180,160\n",
      "|    └─ReLU: 2-14                        [-1, 512, 50, 50]         --\n",
      "|    └─Conv2d: 2-15                      [-1, 512, 50, 50]         2,359,808\n",
      "|    └─ReLU: 2-16                        [-1, 512, 50, 50]         --\n",
      "├─Upsample: 1-8                          [-1, 512, 100, 100]       --\n",
      "├─Sequential: 1-9                        [-1, 256, 100, 100]       --\n",
      "|    └─Conv2d: 2-17                      [-1, 256, 100, 100]       1,769,728\n",
      "|    └─ReLU: 2-18                        [-1, 256, 100, 100]       --\n",
      "|    └─Conv2d: 2-19                      [-1, 256, 100, 100]       590,080\n",
      "|    └─ReLU: 2-20                        [-1, 256, 100, 100]       --\n",
      "├─Upsample: 1-10                         [-1, 256, 200, 200]       --\n",
      "├─Sequential: 1-11                       [-1, 128, 200, 200]       --\n",
      "|    └─Conv2d: 2-21                      [-1, 128, 200, 200]       442,496\n",
      "|    └─ReLU: 2-22                        [-1, 128, 200, 200]       --\n",
      "|    └─Conv2d: 2-23                      [-1, 128, 200, 200]       147,584\n",
      "|    └─ReLU: 2-24                        [-1, 128, 200, 200]       --\n",
      "├─Upsample: 1-12                         [-1, 128, 400, 400]       --\n",
      "├─Sequential: 1-13                       [-1, 64, 400, 400]        --\n",
      "|    └─Conv2d: 2-25                      [-1, 64, 400, 400]        110,656\n",
      "|    └─ReLU: 2-26                        [-1, 64, 400, 400]        --\n",
      "|    └─Conv2d: 2-27                      [-1, 64, 400, 400]        36,928\n",
      "|    └─ReLU: 2-28                        [-1, 64, 400, 400]        --\n",
      "├─Conv2d: 1-14                           [-1, 2, 400, 400]         130\n",
      "==========================================================================================\n",
      "Total params: 7,782,978\n",
      "Trainable params: 7,782,978\n",
      "Non-trainable params: 0\n",
      "Total mult-adds (G): 103.52\n",
      "==========================================================================================\n",
      "Input size (MB): 1.83\n",
      "Forward/backward pass size (MB): 568.85\n",
      "Params size (MB): 29.69\n",
      "Estimated Total Size (MB): 600.37\n",
      "==========================================================================================\n"
     ]
    }
   ],
   "source": [
    "def double_conv(in_channels, out_channels):\n",
    "    return nn.Sequential(\n",
    "        nn.Conv2d(in_channels, out_channels, 3, padding=1),\n",
    "        nn.ReLU(inplace=True),\n",
    "        nn.Conv2d(out_channels, out_channels, 3, padding=1),\n",
    "        nn.ReLU(inplace=True)\n",
    "    )   \n",
    "\n",
    "\n",
    "class UNet_7M(nn.Module):\n",
    "\n",
    "    def __init__(self):\n",
    "        super().__init__()\n",
    "              \n",
    "        #Encoder\n",
    "        self.dconv_down1 = double_conv(3, 64)\n",
    "        self.dconv_down2 = double_conv(64, 128)\n",
    "        self.dconv_down3 = double_conv(128, 256)\n",
    "        self.dconv_down4 = double_conv(256, 512)        \n",
    "\n",
    "        self.maxpool = nn.MaxPool2d(2,stride=2)\n",
    "        \n",
    "        #Decoder\n",
    "        self.upsample = nn.Upsample(scale_factor=2, mode='bilinear', align_corners=True)        \n",
    "        self.dconv_up3 = double_conv(256 + 512, 256)\n",
    "        self.dconv_up2 = double_conv(128 + 256, 128)\n",
    "        self.dconv_up1 = double_conv(128 + 64, 64)\n",
    "        \n",
    "        self.conv_last = nn.Conv2d(64, 2, 1,stride=1)\n",
    "        \n",
    "        \n",
    "    def forward(self, x):\n",
    "        \n",
    "        #Encoder\n",
    "        conv1 = self.dconv_down1(x)\n",
    "        x = self.maxpool(conv1)\n",
    "        conv2 = self.dconv_down2(x)\n",
    "        x = self.maxpool(conv2)\n",
    "        conv3 = self.dconv_down3(x)\n",
    "        x = self.maxpool(conv3)   \n",
    "        x = self.dconv_down4(x)\n",
    "        \n",
    "        #Decoder\n",
    "        x = self.upsample(x)        \n",
    "        x = torch.cat([x, conv3], dim=1)\n",
    "        x = self.dconv_up3(x)\n",
    "        x = self.upsample(x)        \n",
    "        x = torch.cat([x, conv2], dim=1)       \n",
    "        x = self.dconv_up2(x)\n",
    "        x = self.upsample(x)        \n",
    "        x = torch.cat([x, conv1], dim=1)   \n",
    "        x = self.dconv_up1(x)\n",
    "        out = self.conv_last(x)\n",
    "        \n",
    "        return out\n",
    "\n",
    "\n",
    "from torchsummary import summary\n",
    "\n",
    "device = torch.device('cuda' if torch.cuda.is_available() else 'cpu')\n",
    "model = UNet_7M()\n",
    "model = model.to(device)\n",
    "\n",
    "_ = summary(model, (3, 400, 400))"
   ]
  },
  {
   "cell_type": "markdown",
   "metadata": {},
   "source": [
    "## Loss Function"
   ]
  },
  {
   "cell_type": "markdown",
   "metadata": {},
   "source": [
    "### Dice Loss + BCE Loss"
   ]
  },
  {
   "cell_type": "code",
   "execution_count": 63,
   "metadata": {},
   "outputs": [],
   "source": [
    "def dice_loss(pred, target, smooth = 1.):\n",
    "    pred = pred.contiguous()\n",
    "    target = target.contiguous()    \n",
    "\n",
    "    intersection = (pred * target).sum(dim=2).sum(dim=2)\n",
    "    \n",
    "    loss = (1 - ((2. * intersection + smooth) / (pred.sum(dim=2).sum(dim=2) + target.sum(dim=2).sum(dim=2) + smooth)))\n",
    "    \n",
    "    return loss.mean()\n",
    "\n",
    "from collections import defaultdict\n",
    "dtype = torch.cuda.FloatTensor if torch.cuda.is_available() else torch.FloatTensor\n",
    "\n",
    "def calc_loss(pred, target, bce_weight=0.5):\n",
    "    bce = func.binary_cross_entropy_with_logits(pred, target).type(dtype)\n",
    "\n",
    "    pred = torch.sigmoid(pred).type(dtype)\n",
    "    dice = dice_loss(pred, target)\n",
    "\n",
    "    loss = bce * bce_weight + dice * (1 - bce_weight)\n",
    "    \n",
    "    return loss\n",
    "\n",
    "def iou(pred, target, smooth=1.):\n",
    "    pred = pred.contiguous()\n",
    "    target = target.contiguous()    \n",
    "\n",
    "    intersection = (pred * target).sum(dim=2).sum(dim=2)\n",
    "    union = pred.sum(dim=2).sum(dim=2) + target.sum(dim=2).sum(dim=2) \n",
    "    #print(intersection,union)\n",
    "   \n",
    "    loss = ((intersection + smooth) / (pred.sum(dim=2).sum(dim=2) + target.sum(dim=2).sum(dim=2) - intersection + smooth))\n",
    "    \n",
    "    return loss.mean()"
   ]
  },
  {
   "cell_type": "markdown",
   "metadata": {},
   "source": [
    "## Optimizer"
   ]
  },
  {
   "cell_type": "code",
   "execution_count": 44,
   "metadata": {},
   "outputs": [
    {
     "name": "stdout",
     "output_type": "stream",
     "text": [
      "Architecture choosen with parameters: 7782978\n"
     ]
    }
   ],
   "source": [
    "# Which UNet Model?\n",
    "unet = UNet_7M()\n",
    "\n",
    "print(\"Architecture choosen with parameters: \" + str(sum(p.numel() for p in unet.parameters())))\n",
    "gpu_available = torch.cuda.is_available() \n",
    "if gpu_available:\n",
    "    unet = unet.cuda()\n",
    "    \n",
    "optimizer = torch.optim.Adam(filter(lambda p: p.requires_grad, unet.parameters()), lr=1e-4)\n",
    "scheduler = torch.optim.lr_scheduler.StepLR(optimizer, step_size=30, gamma=0.1)"
   ]
  },
  {
   "cell_type": "markdown",
   "metadata": {},
   "source": [
    "## Training"
   ]
  },
  {
   "cell_type": "code",
   "execution_count": 57,
   "metadata": {},
   "outputs": [
    {
     "name": "stdout",
     "output_type": "stream",
     "text": [
      "Epoch 0/14\n",
      "----------\n",
      "LR 0.0001\n",
      "Epoch 1/14\n",
      "----------\n",
      "LR 0.0001\n",
      "Epoch 2/14\n",
      "----------\n",
      "LR 0.0001\n",
      "Epoch 3/14\n",
      "----------\n",
      "LR 0.0001\n",
      "Epoch 4/14\n",
      "----------\n",
      "LR 0.0001\n",
      "Epoch 5/14\n",
      "----------\n",
      "LR 0.0001\n",
      "Epoch 6/14\n",
      "----------\n",
      "LR 0.0001\n",
      "Epoch 7/14\n",
      "----------\n",
      "LR 0.0001\n",
      "Epoch 8/14\n",
      "----------\n",
      "LR 0.0001\n",
      "Epoch 9/14\n",
      "----------\n",
      "LR 0.0001\n",
      "Epoch 10/14\n",
      "----------\n",
      "LR 0.0001\n",
      "Epoch 11/14\n",
      "----------\n",
      "LR 0.0001\n",
      "Epoch 12/14\n",
      "----------\n",
      "LR 0.0001\n",
      "Epoch 13/14\n",
      "----------\n",
      "LR 0.0001\n",
      "Epoch 14/14\n",
      "----------\n",
      "LR 0.0001\n"
     ]
    }
   ],
   "source": [
    "loss_values =[]\n",
    "running_loss = 0.0\n",
    "\n",
    "for epoch in range(num_epochs):  # loop over the dataset multiple times\n",
    "    print('Epoch {}/{}'.format(epoch, num_epochs - 1))\n",
    "    print('-' * 10)\n",
    "\n",
    "\n",
    "    scheduler.step()\n",
    "    for param_group in optimizer.param_groups:\n",
    "        print(\"LR\", param_group['lr'])\n",
    "\n",
    "    for i, data in enumerate(dataloaders['train']):\n",
    "        inputimage, targetimage = data\n",
    "        \n",
    "        if gpu_available:\n",
    "            inputimage = inputimage.cuda()\n",
    "\n",
    "        optimizer.zero_grad()\n",
    "\n",
    "        # Forward Pass \n",
    "        outputs = unet(inputimage)\n",
    "\n",
    "        # Loss Calculation\n",
    "        labels = torch.empty_like(outputs)\n",
    "        lab_channel = (label_split(labels,targetimage,n_class))\n",
    "        loss = calc_loss(outputs,lab_channel)\n",
    "\n",
    "        # Backward Pass\n",
    "        loss.backward()\n",
    "        optimizer.step()\n",
    "\n",
    "        # print statistics\n",
    "        running_loss += loss.item()\n",
    "        \n",
    "        if 1: #i % 10 == 9:\n",
    "            print('[%d, %5d] loss: %.10f' %(epoch + 1, i + 1, running_loss / 100))\n",
    "            loss_values.append(running_loss / 170)\n",
    "            running_loss = 0.0"
   ]
  },
  {
   "cell_type": "markdown",
   "metadata": {},
   "source": [
    "## Testing"
   ]
  },
  {
   "cell_type": "code",
   "execution_count": 62,
   "metadata": {},
   "outputs": [
    {
     "ename": "IsADirectoryError",
     "evalue": "[Errno 21] Is a directory: 'PennFudanPed/PNGImages'",
     "output_type": "error",
     "traceback": [
      "\u001b[0;31m---------------------------------------------------------------------------\u001b[0m",
      "\u001b[0;31mIsADirectoryError\u001b[0m                         Traceback (most recent call last)",
      "\u001b[0;32m<ipython-input-62-dde370cacd5e>\u001b[0m in \u001b[0;36m<module>\u001b[0;34m\u001b[0m\n\u001b[0;32m----> 1\u001b[0;31m \u001b[0mtorch\u001b[0m\u001b[0;34m.\u001b[0m\u001b[0msave\u001b[0m\u001b[0;34m(\u001b[0m\u001b[0munet\u001b[0m\u001b[0;34m.\u001b[0m\u001b[0mstate_dict\u001b[0m\u001b[0;34m(\u001b[0m\u001b[0;34m)\u001b[0m\u001b[0;34m,\u001b[0m \u001b[0mos\u001b[0m\u001b[0;34m.\u001b[0m\u001b[0mpath\u001b[0m\u001b[0;34m.\u001b[0m\u001b[0mjoin\u001b[0m\u001b[0;34m(\u001b[0m\u001b[0;34m\"PennFudanPed/PNGImages\"\u001b[0m\u001b[0;34m)\u001b[0m\u001b[0;34m)\u001b[0m\u001b[0;34m\u001b[0m\u001b[0;34m\u001b[0m\u001b[0m\n\u001b[0m",
      "\u001b[0;32m/opt/anaconda3/envs/learn-ml/lib/python3.8/site-packages/torch/serialization.py\u001b[0m in \u001b[0;36msave\u001b[0;34m(obj, f, pickle_module, pickle_protocol, _use_new_zipfile_serialization)\u001b[0m\n\u001b[1;32m    359\u001b[0m     \u001b[0m_check_dill_version\u001b[0m\u001b[0;34m(\u001b[0m\u001b[0mpickle_module\u001b[0m\u001b[0;34m)\u001b[0m\u001b[0;34m\u001b[0m\u001b[0;34m\u001b[0m\u001b[0m\n\u001b[1;32m    360\u001b[0m \u001b[0;34m\u001b[0m\u001b[0m\n\u001b[0;32m--> 361\u001b[0;31m     \u001b[0;32mwith\u001b[0m \u001b[0m_open_file_like\u001b[0m\u001b[0;34m(\u001b[0m\u001b[0mf\u001b[0m\u001b[0;34m,\u001b[0m \u001b[0;34m'wb'\u001b[0m\u001b[0;34m)\u001b[0m \u001b[0;32mas\u001b[0m \u001b[0mopened_file\u001b[0m\u001b[0;34m:\u001b[0m\u001b[0;34m\u001b[0m\u001b[0;34m\u001b[0m\u001b[0m\n\u001b[0m\u001b[1;32m    362\u001b[0m         \u001b[0;32mif\u001b[0m \u001b[0m_use_new_zipfile_serialization\u001b[0m\u001b[0;34m:\u001b[0m\u001b[0;34m\u001b[0m\u001b[0;34m\u001b[0m\u001b[0m\n\u001b[1;32m    363\u001b[0m             \u001b[0;32mwith\u001b[0m \u001b[0m_open_zipfile_writer\u001b[0m\u001b[0;34m(\u001b[0m\u001b[0mopened_file\u001b[0m\u001b[0;34m)\u001b[0m \u001b[0;32mas\u001b[0m \u001b[0mopened_zipfile\u001b[0m\u001b[0;34m:\u001b[0m\u001b[0;34m\u001b[0m\u001b[0;34m\u001b[0m\u001b[0m\n",
      "\u001b[0;32m/opt/anaconda3/envs/learn-ml/lib/python3.8/site-packages/torch/serialization.py\u001b[0m in \u001b[0;36m_open_file_like\u001b[0;34m(name_or_buffer, mode)\u001b[0m\n\u001b[1;32m    227\u001b[0m \u001b[0;32mdef\u001b[0m \u001b[0m_open_file_like\u001b[0m\u001b[0;34m(\u001b[0m\u001b[0mname_or_buffer\u001b[0m\u001b[0;34m,\u001b[0m \u001b[0mmode\u001b[0m\u001b[0;34m)\u001b[0m\u001b[0;34m:\u001b[0m\u001b[0;34m\u001b[0m\u001b[0;34m\u001b[0m\u001b[0m\n\u001b[1;32m    228\u001b[0m     \u001b[0;32mif\u001b[0m \u001b[0m_is_path\u001b[0m\u001b[0;34m(\u001b[0m\u001b[0mname_or_buffer\u001b[0m\u001b[0;34m)\u001b[0m\u001b[0;34m:\u001b[0m\u001b[0;34m\u001b[0m\u001b[0;34m\u001b[0m\u001b[0m\n\u001b[0;32m--> 229\u001b[0;31m         \u001b[0;32mreturn\u001b[0m \u001b[0m_open_file\u001b[0m\u001b[0;34m(\u001b[0m\u001b[0mname_or_buffer\u001b[0m\u001b[0;34m,\u001b[0m \u001b[0mmode\u001b[0m\u001b[0;34m)\u001b[0m\u001b[0;34m\u001b[0m\u001b[0;34m\u001b[0m\u001b[0m\n\u001b[0m\u001b[1;32m    230\u001b[0m     \u001b[0;32melse\u001b[0m\u001b[0;34m:\u001b[0m\u001b[0;34m\u001b[0m\u001b[0;34m\u001b[0m\u001b[0m\n\u001b[1;32m    231\u001b[0m         \u001b[0;32mif\u001b[0m \u001b[0;34m'w'\u001b[0m \u001b[0;32min\u001b[0m \u001b[0mmode\u001b[0m\u001b[0;34m:\u001b[0m\u001b[0;34m\u001b[0m\u001b[0;34m\u001b[0m\u001b[0m\n",
      "\u001b[0;32m/opt/anaconda3/envs/learn-ml/lib/python3.8/site-packages/torch/serialization.py\u001b[0m in \u001b[0;36m__init__\u001b[0;34m(self, name, mode)\u001b[0m\n\u001b[1;32m    208\u001b[0m \u001b[0;32mclass\u001b[0m \u001b[0m_open_file\u001b[0m\u001b[0;34m(\u001b[0m\u001b[0m_opener\u001b[0m\u001b[0;34m)\u001b[0m\u001b[0;34m:\u001b[0m\u001b[0;34m\u001b[0m\u001b[0;34m\u001b[0m\u001b[0m\n\u001b[1;32m    209\u001b[0m     \u001b[0;32mdef\u001b[0m \u001b[0m__init__\u001b[0m\u001b[0;34m(\u001b[0m\u001b[0mself\u001b[0m\u001b[0;34m,\u001b[0m \u001b[0mname\u001b[0m\u001b[0;34m,\u001b[0m \u001b[0mmode\u001b[0m\u001b[0;34m)\u001b[0m\u001b[0;34m:\u001b[0m\u001b[0;34m\u001b[0m\u001b[0;34m\u001b[0m\u001b[0m\n\u001b[0;32m--> 210\u001b[0;31m         \u001b[0msuper\u001b[0m\u001b[0;34m(\u001b[0m\u001b[0m_open_file\u001b[0m\u001b[0;34m,\u001b[0m \u001b[0mself\u001b[0m\u001b[0;34m)\u001b[0m\u001b[0;34m.\u001b[0m\u001b[0m__init__\u001b[0m\u001b[0;34m(\u001b[0m\u001b[0mopen\u001b[0m\u001b[0;34m(\u001b[0m\u001b[0mname\u001b[0m\u001b[0;34m,\u001b[0m \u001b[0mmode\u001b[0m\u001b[0;34m)\u001b[0m\u001b[0;34m)\u001b[0m\u001b[0;34m\u001b[0m\u001b[0;34m\u001b[0m\u001b[0m\n\u001b[0m\u001b[1;32m    211\u001b[0m \u001b[0;34m\u001b[0m\u001b[0m\n\u001b[1;32m    212\u001b[0m     \u001b[0;32mdef\u001b[0m \u001b[0m__exit__\u001b[0m\u001b[0;34m(\u001b[0m\u001b[0mself\u001b[0m\u001b[0;34m,\u001b[0m \u001b[0;34m*\u001b[0m\u001b[0margs\u001b[0m\u001b[0;34m)\u001b[0m\u001b[0;34m:\u001b[0m\u001b[0;34m\u001b[0m\u001b[0;34m\u001b[0m\u001b[0m\n",
      "\u001b[0;31mIsADirectoryError\u001b[0m: [Errno 21] Is a directory: 'PennFudanPed/PNGImages'"
     ]
    }
   ],
   "source": [
    "torch.save(unet.state_dict(), os.path.join(\"PennFudanPed/PNGImages\"))"
   ]
  },
  {
   "cell_type": "code",
   "execution_count": 66,
   "metadata": {},
   "outputs": [
    {
     "name": "stdout",
     "output_type": "stream",
     "text": [
      "IOU loss: 0.0375 for IOU threshold of: 0.6\n"
     ]
    }
   ],
   "source": [
    "iou_threshold = 0.6 # enter the threshold for IOU metrics\n",
    "correct_prediction = 0\n",
    "total_prediction = 0\n",
    "for i, data in enumerate(dataloaders['test']):\n",
    "    inputimage, targetimage = data\n",
    "    \n",
    "    if gpu_available:\n",
    "        inputimage = inputimage.cuda() \n",
    "        \n",
    "\n",
    "    prediction = unet(inputimage)\n",
    "    prediction = torch.sigmoid(prediction)  \n",
    "    \n",
    "    labels = torch.empty_like(prediction)\n",
    "    lab_channel = (label_split(labels,targetimage,n_class))\n",
    "\n",
    "    loss_raw = ((iou(prediction,lab_channel,1e-9)).cpu())\n",
    "    \n",
    "    total_prediction = total_prediction + 1\n",
    "    if loss_raw > iou_threshold:\n",
    "      correct_prediction = correct_prediction + 1\n",
    "\n",
    "print(\"IOU loss: \" + str(correct_prediction/total_prediction) +str(\" for IOU threshold of: \") + str(iou_threshold))"
   ]
  },
  {
   "cell_type": "code",
   "execution_count": 68,
   "metadata": {},
   "outputs": [
    {
     "data": {
      "image/png": "[encoded data removed]",
      "text/plain": [
       "<Figure size 864x864 with 3 Axes>"
      ]
     },
     "metadata": {},
     "output_type": "display_data"
    }
   ],
   "source": [
    "import math\n",
    "\n",
    "# Get the first batch\n",
    "inputs1, targetimage = next(iter(dataloaders['test']))\n",
    "inputs = inputs1\n",
    "\n",
    "# Predict\n",
    "pred = unet(inputs)\n",
    "\n",
    "# The loss functions include the sigmoid function.\n",
    "pred = torch.sigmoid(pred)\n",
    "pred_max = torch.argmax(pred, dim=1)\n",
    "\n",
    "\n",
    "#printing image\n",
    "fig,(ax1,ax2,ax3)=plt.subplots(1,3,figsize=(12,12),facecolor='w')\n",
    "ax1.imshow(pred_max.squeeze(0).cpu(),  interpolation='none',cmap='jet')\n",
    "ax2.imshow(targetimage.squeeze(0).cpu(),  interpolation='none',cmap='jet')\n",
    "ax3.imshow(inputs1[:,2,:,:].squeeze(0).cpu(),  interpolation='none',cmap='gray')\n",
    "ax1.axis('off')\n",
    "ax2.axis('off')\n",
    "ax3.axis('off')\n",
    "ax1.set_title('prediction',fontsize=20)\n",
    "ax2.set_title('Label',fontsize=20)\n",
    "ax3.set_title('input',fontsize=20)\n",
    "plt.show()"
   ]
  },
  {
   "cell_type": "code",
   "execution_count": null,
   "metadata": {},
   "outputs": [],
   "source": []
  }
 ],
 "metadata": {
  "kernelspec": {
   "display_name": "Python 3",
   "language": "python",
   "name": "python3"
  },
  "language_info": {
   "codemirror_mode": {
    "name": "ipython",
    "version": 3
   },
   "file_extension": ".py",
   "mimetype": "text/x-python",
   "name": "python",
   "nbconvert_exporter": "python",
   "pygments_lexer": "ipython3",
   "version": "3.8.5"
  }
 },
 "nbformat": 4,
 "nbformat_minor": 4
}
